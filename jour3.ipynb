{
 "cells": [
  {
   "cell_type": "markdown",
   "metadata": {},
   "source": [
    "## Jour 3 :\n",
    "\n",
    "voici ici bas les exercices fait .\n",
    "\n",
    "parmi ceux proposé je noterai ceuxn que je realiserai.\n",
    "#### Arrays\n",
    "\n",
    "2. Best Time to Buy and Sell Stock (Easy) - Problem #121\n",
    "4. Product of Array Except Self (Medium) - Problem #238\n"
   ]
  },
  {
   "cell_type": "code",
   "execution_count": 2,
   "metadata": {},
   "outputs": [
    {
     "ename": "AssertionError",
     "evalue": "",
     "output_type": "error",
     "traceback": [
      "\u001b[0;31m---------------------------------------------------------------------------\u001b[0m",
      "\u001b[0;31mAssertionError\u001b[0m                            Traceback (most recent call last)",
      "Cell \u001b[0;32mIn[2], line 24\u001b[0m\n\u001b[1;32m     20\u001b[0m myobj\u001b[38;5;241m=\u001b[39m Solution()\n\u001b[1;32m     22\u001b[0m myobj\u001b[38;5;241m.\u001b[39mmaxProfit(prices)\n\u001b[0;32m---> 24\u001b[0m \u001b[38;5;28;01massert\u001b[39;00m(myobj\u001b[38;5;241m.\u001b[39mmaxProfit(prices) \u001b[38;5;241m==\u001b[39m \u001b[38;5;241m5\u001b[39m)\n",
      "\u001b[0;31mAssertionError\u001b[0m: "
     ]
    }
   ],
   "source": [
    "##2. Best Time to Buy and Sell Stock (Easy) - Problem #121\n",
    "\n",
    "class Solution(object):\n",
    "    def maxProfit(self, prices):\n",
    "        \"\"\"\n",
    "        :type prices: List[int]\n",
    "        :rtype: int\n",
    "        \"\"\"\n",
    "        profit = 0\n",
    "        for i in range(len(prices)):\n",
    "            for j in range(i,len(prices),1):\n",
    "                if prices[j] - prices[i] > profit:\n",
    "                    profit = prices[i] - prices[j]\n",
    "\n",
    "        return profit\n",
    "\n",
    "\n",
    "prices = [7,1,5,3,6,4]\n",
    "\n",
    "myobj= Solution()\n",
    "\n",
    "myobj.maxProfit(prices)\n",
    "\n",
    "assert(myobj.maxProfit(prices) == 5)"
   ]
  }
 ],
 "metadata": {
  "kernelspec": {
   "display_name": "Python 3",
   "language": "python",
   "name": "python3"
  },
  "language_info": {
   "codemirror_mode": {
    "name": "ipython",
    "version": 3
   },
   "file_extension": ".py",
   "mimetype": "text/x-python",
   "name": "python",
   "nbconvert_exporter": "python",
   "pygments_lexer": "ipython3",
   "version": "3.9.6"
  }
 },
 "nbformat": 4,
 "nbformat_minor": 2
}

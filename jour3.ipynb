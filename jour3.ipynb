{
 "cells": [
  {
   "cell_type": "markdown",
   "metadata": {},
   "source": [
    "## Jour 3 :\n",
    "\n",
    "voici ici bas les exercices fait .\n",
    "\n",
    "parmi ceux proposé je noterai ceuxn que je realiserai.\n",
    "#### Arrays\n",
    "\n",
    "2. Best Time to Buy and Sell Stock (Easy) - Problem #121\n",
    "4. Product of Array Except Self (Medium) - Problem #238\n"
   ]
  },
  {
   "cell_type": "code",
   "execution_count": 4,
   "metadata": {},
   "outputs": [],
   "source": [
    "##2. Best Time to Buy and Sell Stock (Easy) - Problem #121\n",
    "\n",
    "class Solution(object):\n",
    "    def maxProfit(self, prices):\n",
    "        \"\"\"\n",
    "        :type prices: List[int]\n",
    "        :rtype: int\n",
    "        \"\"\"\n",
    "        max_profit = 0\n",
    "        min_price = prices[0]\n",
    "        for price in prices[1:] :\n",
    "            max_profit =  max(max_profit, price - min_price )\n",
    "            min_price = min (min_price , price)\n",
    "        return max_profit\n",
    "\n",
    "\n",
    "prices = [7,1,5,3,6,4]\n",
    "\n",
    "myobj= Solution()\n",
    "\n",
    "myobj.maxProfit(prices)\n",
    "\n",
    "assert(myobj.maxProfit(prices) == 5)"
   ]
  }
 ],
 "metadata": {
  "kernelspec": {
   "display_name": "Python 3",
   "language": "python",
   "name": "python3"
  },
  "language_info": {
   "codemirror_mode": {
    "name": "ipython",
    "version": 3
   },
   "file_extension": ".py",
   "mimetype": "text/x-python",
   "name": "python",
   "nbconvert_exporter": "python",
   "pygments_lexer": "ipython3",
   "version": "3.9.6"
  }
 },
 "nbformat": 4,
 "nbformat_minor": 2
}

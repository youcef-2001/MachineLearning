{
 "cells": [
  {
   "cell_type": "markdown",
   "metadata": {},
   "source": [
    "## Jour 3 :\n",
    "\n",
    "voici ici bas les exercices fait .\n",
    "\n",
    "parmi ceux proposé je noterai ceuxn que je realiserai.\n",
    "#### Arrays\n",
    "\n",
    "2. Best Time to Buy and Sell Stock (Easy) - Problem #121\n",
    "4. Product of Array Except Self (Medium) - Problem #238\n"
   ]
  },
  {
   "cell_type": "code",
   "execution_count": 4,
   "metadata": {},
   "outputs": [],
   "source": [
    "##2. Best Time to Buy and Sell Stock (Easy) - Problem #121\n",
    "\n",
    "class Solution(object):\n",
    "    def maxProfit(self, prices):\n",
    "        \"\"\"\n",
    "        :type prices: List[int]\n",
    "        :rtype: int\n",
    "        \"\"\"\n",
    "        max_profit = 0\n",
    "        min_price = prices[0]\n",
    "        for price in prices[1:] :\n",
    "            max_profit =  max(max_profit, price - min_price )\n",
    "            min_price = min (min_price , price)\n",
    "        return max_profit\n",
    "\n",
    "\n",
    "prices = [7,1,5,3,6,4]\n",
    "\n",
    "myobj= Solution()\n",
    "\n",
    "myobj.maxProfit(prices)\n",
    "\n",
    "assert(myobj.maxProfit(prices) == 5)"
   ]
  },
  {
   "cell_type": "code",
   "execution_count": null,
   "metadata": {},
   "outputs": [],
   "source": [
    "# 4. Product of Array Except Self (Medium) - Problem #238\n",
    "\n",
    "class Solution(object):\n",
    "    def productExceptSelf(self, nums):\n",
    "        n= len(nums)\n",
    "        pre = [1]* n\n",
    "        suff = [1] * n\n",
    "        \n",
    "        for i in range (1,n,1):\n",
    "            pre[i]= pre[i-1] * nums[i-1]\n",
    "            suff[n-1-i] =  suff[n-i] *  nums[n-i]\n",
    "        for i in range(n):\n",
    "            nums[i] = pre[i] * suff[i]\n",
    "\n",
    "        return nums\n",
    "    \n",
    "\n"
   ]
  },
  {
   "cell_type": "markdown",
   "metadata": {},
   "source": [
    "#### Linked Lists\n",
    "\n",
    "Reverse Linked List (Easy) - Problem #206\n",
    "Merge Two Sorted Lists (Easy) - Problem #21\n",
    "Linked List Cycle (Easy) - Problem #141\n",
    "Add Two Numbers (Medium) - Problem #2\n",
    "LRU Cache (Medium) - Problem #146"
   ]
  },
  {
   "cell_type": "code",
   "execution_count": null,
   "metadata": {},
   "outputs": [],
   "source": [
    "# Reverse Linked List (Easy) - Problem #206\n",
    "\n",
    "# Definition for singly-linked list.\n",
    "# class ListNode(object):\n",
    "#     def __init__(self, val=0, next=None):\n",
    "#         self.val = val\n",
    "#         self.next = next\n",
    "class Solution(object):\n",
    "    def reverseList(self, head):\n",
    "        if head == None :\n",
    "            return head\n",
    "        \"\"\"\n",
    "        :type head: ListNode\n",
    "        :rtype: ListNode\n",
    "        \"\"\"\n",
    "        post = None\n",
    "        current = head \n",
    "        pre = current.next\n",
    "        current.next = post\n",
    "        while pre :\n",
    "            post = current\n",
    "            current = pre\n",
    "            pre= current.next\n",
    "            current.next = post\n",
    "        return current\n",
    "        "
   ]
  }
 ],
 "metadata": {
  "kernelspec": {
   "display_name": "Python 3",
   "language": "python",
   "name": "python3"
  },
  "language_info": {
   "codemirror_mode": {
    "name": "ipython",
    "version": 3
   },
   "file_extension": ".py",
   "mimetype": "text/x-python",
   "name": "python",
   "nbconvert_exporter": "python",
   "pygments_lexer": "ipython3",
   "version": "3.9.6"
  }
 },
 "nbformat": 4,
 "nbformat_minor": 2
}

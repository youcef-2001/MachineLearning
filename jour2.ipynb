{
 "cells": [
  {
   "cell_type": "code",
   "execution_count": null,
   "metadata": {},
   "outputs": [],
   "source": [
    "class Solution:\n",
    "    def islandPerimeter(self, grid):\n",
    "        row = len(grid)\n",
    "        col = len(grid[0])\n",
    "        ans = 0\n",
    "\n",
    "        for i in range(row):\n",
    "            for j in range(col):\n",
    "                if grid[i][j] == 1:\n",
    "                    ans += 4\n",
    "                    if i > 0 and grid[i - 1][j] == 1:\n",
    "                        ans -= 2\n",
    "                    if j > 0 and grid[i][j - 1] == 1:\n",
    "                        ans -= 2\n",
    "\n",
    "        return ans"
   ]
  },
  {
   "cell_type": "code",
   "execution_count": null,
   "metadata": {},
   "outputs": [],
   "source": [
    "class Solution:\n",
    "    def removeIsland(self, grid, i, j):\n",
    "        n = len(grid)\n",
    "        m = len(grid[0])\n",
    "        if i < 0 or j < 0 or i >= n or j >= m:\n",
    "            return\n",
    "            \n",
    "        if grid[i][j] == '1':\n",
    "            grid[i][j] = '0'\n",
    "            rows = [-1, 0, 1, 0]\n",
    "            cols = [0, 1, 0, -1]\n",
    "            for index in range(4):\n",
    "                ri = rows[index] + i\n",
    "                ci = cols[index] + j\n",
    "                self.removeIsland(grid, ri, ci)\n",
    "\n",
    "    def numIslands(self, grid):\n",
    "        n = len(grid)\n",
    "        m = len(grid[0])\n",
    "        isLands = 0\n",
    "        for i in range(n):\n",
    "            for j in range(m):\n",
    "                if grid[i][j] == '1':\n",
    "                    isLands += 1\n",
    "                    self.removeIsland(grid, i, j)\n",
    "        return isLands"
   ]
  }
 ],
 "metadata": {
  "kernelspec": {
   "display_name": "Python 3",
   "language": "python",
   "name": "python3"
  },
  "language_info": {
   "name": "python",
   "version": "3.9.6"
  }
 },
 "nbformat": 4,
 "nbformat_minor": 2
}

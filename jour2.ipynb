{
 "cells": [
  {
   "cell_type": "code",
   "execution_count": null,
   "metadata": {},
   "outputs": [],
   "source": [
    "class Solution:\n",
    "    def islandPerimeter(self, grid):\n",
    "        row = len(grid)\n",
    "        col = len(grid[0])\n",
    "        ans = 0\n",
    "\n",
    "        for i in range(row):\n",
    "            for j in range(col):\n",
    "                if grid[i][j] == 1:\n",
    "                    ans += 4\n",
    "                    if i > 0 and grid[i - 1][j] == 1:\n",
    "                        ans -= 2\n",
    "                    if j > 0 and grid[i][j - 1] == 1:\n",
    "                        ans -= 2\n",
    "\n",
    "        return ans"
   ]
  },
  {
   "cell_type": "markdown",
   "metadata": {},
   "source": [
    "##### Probleme 200 leetcode"
   ]
  },
  {
   "cell_type": "code",
   "execution_count": null,
   "metadata": {},
   "outputs": [],
   "source": [
    "class Solution:\n",
    "    def removeIsland(self, grid, i, j):\n",
    "        n = len(grid)\n",
    "        m = len(grid[0])\n",
    "        if i < 0 or j < 0 or i >= n or j >= m:\n",
    "            return\n",
    "            \n",
    "        if grid[i][j] == '1':\n",
    "            grid[i][j] = '0'\n",
    "            rows = [-1, 0, 1, 0]\n",
    "            cols = [0, 1, 0, -1]\n",
    "            for index in range(4):\n",
    "                ri = rows[index] + i\n",
    "                ci = cols[index] + j\n",
    "                self.removeIsland(grid, ri, ci)\n",
    "\n",
    "    def numIslands(self, grid):\n",
    "        n = len(grid)\n",
    "        m = len(grid[0])\n",
    "        isLands = 0\n",
    "        for i in range(n):\n",
    "            for j in range(m):\n",
    "                if grid[i][j] == '1':\n",
    "                    isLands += 1\n",
    "                    self.removeIsland(grid, i, j)\n",
    "        return isLands"
   ]
  },
  {
   "cell_type": "markdown",
   "metadata": {},
   "source": [
    "#### Problemme 474 Leetcode "
   ]
  },
  {
   "cell_type": "code",
   "execution_count": 1,
   "metadata": {},
   "outputs": [],
   "source": [
    "class Solution:\n",
    "    def findMaxForm(self, strs, m,n) :\n",
    "    \n",
    "        dp = [[ 0 ] * (n+1) for _ in range(m+1)]\n",
    "        for s in strs:\n",
    "            zeros, ones = s.count(\"0\"), s.count(\"1\")\n",
    "            for i in range(m, zeros - 1, -1):\n",
    "                for j in range(n, ones - 1, -1):\n",
    "                    \n",
    "                    dp[i][j] = max( 1 + dp[i - zeros][j- ones], dp[i][j] )\n",
    "        \n",
    "        return dp[-1][-1]\n",
    "    "
   ]
  },
  {
   "cell_type": "code",
   "execution_count": 3,
   "metadata": {},
   "outputs": [
    {
     "data": {
      "text/plain": [
       "4"
      ]
     },
     "execution_count": 3,
     "metadata": {},
     "output_type": "execute_result"
    }
   ],
   "source": [
    "strs= [\"10\",\"0001\",\"111001\",\"1\",\"0\"]\n",
    "s= Solution()\n",
    "\n",
    "s.findMaxForm(strs,5,3)"
   ]
  },
  {
   "cell_type": "markdown",
   "metadata": {},
   "source": [
    "##### Exercice du prof \n",
    "\n",
    "    [IN] t= [2,3,-8,7,-1,2,3]\n",
    "    [OUT] = 11\n",
    "Goal = en O(n)\n"
   ]
  },
  {
   "cell_type": "code",
   "execution_count": 4,
   "metadata": {},
   "outputs": [
    {
     "ename": "TypeError",
     "evalue": "maxSubArray() missing 1 required positional argument: 'nums'",
     "output_type": "error",
     "traceback": [
      "\u001b[0;31m---------------------------------------------------------------------------\u001b[0m",
      "\u001b[0;31mTypeError\u001b[0m                                 Traceback (most recent call last)",
      "Cell \u001b[0;32mIn[4], line 11\u001b[0m\n\u001b[1;32m      8\u001b[0m             ans \u001b[38;5;241m=\u001b[39m \u001b[38;5;28mmax\u001b[39m(ans, cur_sum)\n\u001b[1;32m      9\u001b[0m     \u001b[38;5;28;01mreturn\u001b[39;00m ans\n\u001b[0;32m---> 11\u001b[0m \u001b[43mmaxSubArray\u001b[49m\u001b[43m(\u001b[49m\u001b[43mt\u001b[49m\u001b[43m)\u001b[49m\n",
      "\u001b[0;31mTypeError\u001b[0m: maxSubArray() missing 1 required positional argument: 'nums'"
     ]
    }
   ],
   "source": [
    "t=[2,3,-8,7,-1,2,3]\n",
    "\n",
    "def maxSubArray(self, nums):\n",
    "    res = -99999999999\n",
    "    for i in range(len(nums)):\n",
    "        cur_sum = 0\n",
    "        for j in range(i, len(nums)):\n",
    "            cur_sum += nums[j]\n",
    "            res = max(res, cur_sum)\n",
    "    return res\n",
    "\n",
    "maxSubArray(t)"
   ]
  }
 ],
 "metadata": {
  "kernelspec": {
   "display_name": "Python 3",
   "language": "python",
   "name": "python3"
  },
  "language_info": {
   "codemirror_mode": {
    "name": "ipython",
    "version": 3
   },
   "file_extension": ".py",
   "mimetype": "text/x-python",
   "name": "python",
   "nbconvert_exporter": "python",
   "pygments_lexer": "ipython3",
   "version": "3.9.6"
  }
 },
 "nbformat": 4,
 "nbformat_minor": 2
}

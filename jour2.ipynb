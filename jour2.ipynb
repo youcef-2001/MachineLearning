{
 "cells": [
  {
   "cell_type": "code",
   "execution_count": null,
   "metadata": {},
   "outputs": [],
   "source": [
    "class Solution:\n",
    "    def islandPerimeter(self, grid):\n",
    "        row = len(grid)\n",
    "        col = len(grid[0])\n",
    "        ans = 0\n",
    "\n",
    "        for i in range(row):\n",
    "            for j in range(col):\n",
    "                if grid[i][j] == 1:\n",
    "                    ans += 4\n",
    "                    if i > 0 and grid[i - 1][j] == 1:\n",
    "                        ans -= 2\n",
    "                    if j > 0 and grid[i][j - 1] == 1:\n",
    "                        ans -= 2\n",
    "\n",
    "        return ans"
   ]
  }
 ],
 "metadata": {
  "kernelspec": {
   "display_name": "Python 3",
   "language": "python",
   "name": "python3"
  },
  "language_info": {
   "name": "python",
   "version": "3.9.6"
  }
 },
 "nbformat": 4,
 "nbformat_minor": 2
}
